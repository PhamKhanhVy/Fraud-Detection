{
 "cells": [
  {
   "cell_type": "code",
   "execution_count": 10,
   "metadata": {},
   "outputs": [
    {
     "data": {
      "text/plain": [
       "import org.apache.spark.SparkConf\r\n",
       "import org.apache.spark.graphx.{Edge, Graph}\r\n",
       "import org.apache.spark.sql.functions._\r\n",
       "import org.graphframes.GraphFrame\r\n",
       "import scala.io.Source\r\n",
       "import org.apache.spark.ml.feature.{StringIndexer, OneHotEncoder, VectorAssembler, MinMaxScaler}\r\n",
       "import org.apache.spark.ml.Pipeline\r\n",
       "import org.apache.spark.graphx._\r\n",
       "import org.apache.spark.sql.types._\r\n",
       "import org.apache.spark.rdd.RDD\r\n",
       "import scala.collection.mutable.ListBuffer\r\n",
       "import org.apache.spark.sql.{SparkSession, DataFrame, Row}\r\n",
       "spark: org.apache.spark.sql.SparkSession = org.apache.spark.sql.SparkSession@5772abbb\r\n",
       "import spark.implicits._\r\n"
      ]
     },
     "execution_count": 10,
     "metadata": {},
     "output_type": "execute_result"
    }
   ],
   "source": [
    "import org.apache.spark.SparkConf\n",
    "import org.apache.spark.graphx.{Edge, Graph}\n",
    "import org.apache.spark.sql.functions._\n",
    "import org.graphframes.GraphFrame\n",
    "import scala.io.Source\n",
    "import org.apache.spark.ml.feature.{StringIndexer, OneHotEncoder, VectorAssembler, MinMaxScaler}\n",
    "import org.apache.spark.ml.Pipeline\n",
    "import org.apache.spark.graphx._\n",
    "import org.apache.spark.sql.types._\n",
    "import org.apache.spark.rdd.RDD\n",
    "import scala.collection.mutable.ListBuffer\n",
    "import org.apache.spark.sql.{SparkSession, DataFrame, Row}\n",
    "val spark = SparkSession.builder.appName(\"GraphExample\").getOrCreate()\n",
    "import spark.implicits._"
   ]
  },
  {
   "cell_type": "markdown",
   "metadata": {
    "id": "kevyOjU0XUKp"
   },
   "source": [
    "# **Dataset Definition**"
   ]
  },
  {
   "cell_type": "code",
   "execution_count": 3,
   "metadata": {},
   "outputs": [
    {
     "data": {
      "text/plain": [
       "definition: String = data/Xente_Variable_Definitions.csv\r\n",
       "fileContent: String =\r\n",
       "Column Name,Definition\r\n",
       "TransactionId,Unique �transaction identifier on platform\r\n",
       "BatchId,Unique number assigned to a batch of transactions for processing\r\n",
       "AccountId,Unique number identifying the customer on platform\r\n",
       "SubscriptionId,Unique number identifying the customer subscription\r\n",
       "CustomerId,Unique identifier attached to Account\r\n",
       "CurrencyCode,Country currency\r\n",
       "CountryCode,Numerical geographical code of country\r\n",
       "ProviderId,Source provider of Item �bought.\r\n",
       "ProductId,Item name being bought.\r\n",
       "ProductCategory,ProductIds are organized into these broader product categories.\r\n",
       "ChannelId,\"Identifies if customer used web,Android, IOS, pay later or checkout.\"\r\n",
       "Amount,Value of the transaction. Positive for debits f...\r\n"
      ]
     },
     "execution_count": 3,
     "metadata": {},
     "output_type": "execute_result"
    }
   ],
   "source": [
    "val definition = \"data/Xente_Variable_Definitions.csv\"\n",
    "val fileContent = Source.fromFile(definition).getLines().mkString(\"\\n\")"
   ]
  },
  {
   "cell_type": "markdown",
   "metadata": {},
   "source": [
    "# **Read Data**"
   ]
  },
  {
   "cell_type": "code",
   "execution_count": 4,
   "metadata": {
    "colab": {
     "base_uri": "https://localhost:8080/"
    },
    "id": "eBdi5o7urmGw",
    "outputId": "0053b19c-b5bd-4cff-cac9-5361d3974462"
   },
   "outputs": [
    {
     "data": {
      "text/plain": [
       "train: org.apache.spark.sql.DataFrame = [TransactionId: string, BatchId: string ... 14 more fields]\r\n",
       "test: org.apache.spark.sql.DataFrame = [TransactionId: string, BatchId: string ... 13 more fields]\r\n"
      ]
     },
     "execution_count": 4,
     "metadata": {},
     "output_type": "execute_result"
    }
   ],
   "source": [
    "val train: DataFrame = spark.read\n",
    "  .option(\"header\", \"true\") \n",
    "  .option(\"inferSchema\", \"true\") \n",
    "  .csv(\"data/training.csv\")\n",
    "val test: DataFrame = spark.read\n",
    "  .option(\"header\", \"true\") \n",
    "  .option(\"inferSchema\", \"true\") \n",
    "  .csv(\"data/test.csv\")"
   ]
  },
  {
   "cell_type": "code",
   "execution_count": 5,
   "metadata": {},
   "outputs": [
    {
     "data": {
      "text/plain": [
       "df_train: org.apache.spark.sql.DataFrame = [TransactionId: string, BatchId: string ... 15 more fields]\r\n",
       "temp: org.apache.spark.sql.DataFrame = [TransactionId: string, BatchId: string ... 14 more fields]\r\n",
       "df_test: org.apache.spark.sql.DataFrame = [TransactionId: string, BatchId: string ... 15 more fields]\r\n"
      ]
     },
     "execution_count": 5,
     "metadata": {},
     "output_type": "execute_result"
    }
   ],
   "source": [
    "val df_train = train.withColumn(\"dataset\", lit(\"train\"))\n",
    "val temp = test.withColumn(\"FraudResult\", lit(null: Integer))\n",
    "val df_test = temp.withColumn(\"dataset\", lit(\"test\"))"
   ]
  },
  {
   "cell_type": "code",
   "execution_count": 6,
   "metadata": {
    "id": "p3YjpZrn2D6Z"
   },
   "outputs": [
    {
     "data": {
      "text/plain": [
       "df: org.apache.spark.sql.DataFrame = [TransactionId: string, BatchId: string ... 15 more fields]\r\n"
      ]
     },
     "execution_count": 6,
     "metadata": {},
     "output_type": "execute_result"
    }
   ],
   "source": [
    "val df: DataFrame = df_train.union(df_test)"
   ]
  },
  {
   "cell_type": "code",
   "execution_count": 7,
   "metadata": {},
   "outputs": [
    {
     "name": "stdout",
     "output_type": "stream",
     "text": [
      "root\n",
      " |-- TransactionId: string (nullable = true)\n",
      " |-- BatchId: string (nullable = true)\n",
      " |-- AccountId: string (nullable = true)\n",
      " |-- SubscriptionId: string (nullable = true)\n",
      " |-- CustomerId: string (nullable = true)\n",
      " |-- CurrencyCode: string (nullable = true)\n",
      " |-- CountryCode: integer (nullable = true)\n",
      " |-- ProviderId: string (nullable = true)\n",
      " |-- ProductId: string (nullable = true)\n",
      " |-- ProductCategory: string (nullable = true)\n",
      " |-- ChannelId: string (nullable = true)\n",
      " |-- Amount: double (nullable = true)\n",
      " |-- Value: integer (nullable = true)\n",
      " |-- TransactionStartTime: timestamp (nullable = true)\n",
      " |-- PricingStrategy: integer (nullable = true)\n",
      " |-- FraudResult: integer (nullable = true)\n",
      " |-- dataset: string (nullable = false)\n",
      "\r\n"
     ]
    }
   ],
   "source": [
    "df.printSchema()"
   ]
  },
  {
   "cell_type": "code",
   "execution_count": 8,
   "metadata": {},
   "outputs": [
    {
     "name": "stdout",
     "output_type": "stream",
     "text": [
      "+-------+-----+\n",
      "|dataset|count|\n",
      "+-------+-----+\n",
      "|  train|95662|\n",
      "|   test|45019|\n",
      "+-------+-----+\n",
      "\r\n"
     ]
    }
   ],
   "source": [
    "df.groupBy(\"dataset\").count().show()"
   ]
  },
  {
   "cell_type": "markdown",
   "metadata": {},
   "source": [
    "# **Features Indexer**"
   ]
  },
  {
   "cell_type": "code",
   "execution_count": 8,
   "metadata": {
    "id": "iRI8lki4X0ye"
   },
   "outputs": [
    {
     "data": {
      "text/plain": [
       "IndexerCols: Seq[String] = List(ProviderId, ProductId, ProductCategory, ChannelId, PricingStrategy, FraudResult)\r\n",
       "indexerStages: List[org.apache.spark.ml.feature.StringIndexer] = List(strIdx_4660e9a22251, strIdx_490758806c7c, strIdx_68094e20a67e, strIdx_7617bf1afbe0, strIdx_d7359504e53e, strIdx_8ffaac0e5a66)\r\n",
       "indexedDF: org.apache.spark.sql.DataFrame = [TransactionId: string, BatchId: string ... 17 more fields]\r\n",
       "indexedDF: org.apache.spark.sql.DataFrame = [TransactionId: string, BatchId: string ... 17 more fields]\r\n",
       "indexedDF: org.apache.spark.sql.DataFrame = [TransactionId: string, BatchId: string ... 17 more fields]\r\n",
       "indexedDF: org.apache.spark.sql.DataFrame = [TransactionId: string, BatchId: string ... 17 more fields]\r\n"
      ]
     },
     "execution_count": 8,
     "metadata": {},
     "output_type": "execute_result"
    }
   ],
   "source": [
    "val IndexerCols = Seq(\"ProviderId\", \"ProductId\", \"ProductCategory\", \"ChannelId\", \"PricingStrategy\", \"FraudResult\")\n",
    "var indexerStages = List[StringIndexer]()\n",
    "for (colName <- IndexerCols) {\n",
    "  val indexer = new StringIndexer()\n",
    "    .setInputCol(colName)\n",
    "    .setOutputCol(s\"${colName}_idx\")\n",
    "    .setHandleInvalid(\"keep\")\n",
    "  indexerStages = indexerStages :+ indexer\n",
    "}\n",
    "var indexedDF = df\n",
    "for (indexer <- indexerStages) {\n",
    "  indexedDF = indexer.fit(indexedDF).transform(indexedDF)\n",
    "}\n",
    "indexedDF = indexedDF.drop(IndexerCols: _*)\n",
    "indexedDF = indexedDF.withColumn(\"Amount_encoded\", when(col(\"Amount\") > 0, 1).otherwise(0))\n",
    "indexedDF = indexedDF.withColumn(\"Value_log\", log(col(\"Value\") + 1))"
   ]
  },
  {
   "cell_type": "code",
   "execution_count": 9,
   "metadata": {},
   "outputs": [
    {
     "data": {
      "text/plain": [
       "nonNegativeValues: Array[Double] = Array(0.0, 0.0, 0.0, 0.0, 0.0, 0.0, 0.0, 0.0, 0.0, 0.0, 0.0, 0.0, 0.0, 0.0, 0.0, 0.0, 0.0, 0.0, 0.0, 0.0, 0.0, 0.0, 0.0, 0.0, 0.0, 0.0, 0.0, 0.0, 0.0, 0.0, 0.0, 0.0, 0.0, 0.0, 0.0, 0.0, 0.0, 0.0, 0.0, 0.0, 0.0, 0.0, 0.0, 0.0, 0.0, 0.0, 0.0, 0.0, 0.0, 0.0, 0.0, 0.0, 0.0, 0.0, 0.0, 0.0, 0.0, 0.0, 0.0, 0.0, 0.0, 0.0, 0.0, 0.0, 0.0, 0.0, 0.0, 0.0, 0.0, 0.0, 0.0, 0.0, 0.0, 0.0, 0.0, 0.0, 0.0, 0.0, 0.0, 0.0, 0.0, 0.0, 0.0, 0.0, 0.0, 0.0, 0.0, 0.0, 0.0, 0.0, 0.0, 0.0, 0.0, 0.0, 0.0, 0.0, 0.0, 0.0, 0.0, 0.0, 0.0, 0.0, 0.0, 0.0, 0.0, 0.0, 0.0, 0.0, 0.0, 0.0, 0.0, 0.0, 0.0, 0.0, 0.0, 0.0, 0.0, 0.0, 0.0, 0.0, 0.0, 0.0, 0.0, 0.0, 0.0, 0.0, 0.0, 0.0, 0.0, 0.0, 0.0, 1.0, 0.0, 0.0, 0.0, 0.0, 0.0, 0.0, 0.0, 0.0, 0.0, 0.0, 0.0, 0.0, 0.0, 0.0, 1.0, 0.0, 0.0, 0.0, 0.0, 0...\r\n"
      ]
     },
     "execution_count": 9,
     "metadata": {},
     "output_type": "execute_result"
    }
   ],
   "source": [
    "val nonNegativeValues = indexedDF.select(\"FraudResult_idx\").filter(col(\"FraudResult_idx\") <= 1).as[Double].collect()\n",
    "val baseline = if (nonNegativeValues.nonEmpty) nonNegativeValues.sum / nonNegativeValues.length.toDouble else 0.0\n",
    "baseline"
   ]
  },
  {
   "cell_type": "code",
   "execution_count": 10,
   "metadata": {},
   "outputs": [
    {
     "data": {
      "text/plain": [
       "temp: Double = 0.002\r\n"
      ]
     },
     "execution_count": 10,
     "metadata": {},
     "output_type": "execute_result"
    }
   ],
   "source": [
    "val temp = BigDecimal(baseline).setScale(4, BigDecimal.RoundingMode.HALF_UP).toDouble"
   ]
  },
  {
   "cell_type": "code",
   "execution_count": 11,
   "metadata": {},
   "outputs": [
    {
     "data": {
      "text/plain": [
       "indexedDF: org.apache.spark.sql.DataFrame = [TransactionId: string, BatchId: string ... 17 more fields]\r\n"
      ]
     },
     "execution_count": 11,
     "metadata": {},
     "output_type": "execute_result"
    }
   ],
   "source": [
    "indexedDF = indexedDF.withColumn(\n",
    "  \"FraudResult_idx\",\n",
    "  when(col(\"FraudResult_idx\") === 2, temp).otherwise(col(\"FraudResult_idx\"))\n",
    ")"
   ]
  },
  {
   "cell_type": "code",
   "execution_count": 12,
   "metadata": {},
   "outputs": [
    {
     "name": "stdout",
     "output_type": "stream",
     "text": [
      "+---------------+-----+\n",
      "|FraudResult_idx|count|\n",
      "+---------------+-----+\n",
      "|            0.0|95469|\n",
      "|            1.0|  193|\n",
      "|          0.002|45019|\n",
      "+---------------+-----+\n",
      "\r\n"
     ]
    }
   ],
   "source": [
    "indexedDF.groupBy(\"FraudResult_idx\").count().show()"
   ]
  },
  {
   "cell_type": "markdown",
   "metadata": {
    "id": "WJ-r_T_ZfQ6G"
   },
   "source": [
    "# **Construct Nodes**"
   ]
  },
  {
   "cell_type": "code",
   "execution_count": 13,
   "metadata": {},
   "outputs": [
    {
     "data": {
      "text/plain": [
       "transactionNodes: org.apache.spark.sql.DataFrame = [id: string, node_type: string]\r\n",
       "subscriptionNodes: org.apache.spark.sql.DataFrame = [id: string, node_type: string]\r\n",
       "accountNodes: org.apache.spark.sql.DataFrame = [id: string, node_type: string]\r\n",
       "allNodes: org.apache.spark.sql.Dataset[org.apache.spark.sql.Row] = [id: string, node_type: string]\r\n"
      ]
     },
     "execution_count": 13,
     "metadata": {},
     "output_type": "execute_result"
    }
   ],
   "source": [
    "val transactionNodes = df\n",
    "  .select(\"TransactionId\")\n",
    "  .distinct()\n",
    "  .withColumnRenamed(\"TransactionId\", \"id\")\n",
    "  .withColumn(\"node_type\", lit(\"Transaction\"))\n",
    "\n",
    "val subscriptionNodes = df\n",
    "  .select(\"SubscriptionId\")\n",
    "  .distinct()\n",
    "  .withColumnRenamed(\"SubscriptionId\", \"id\")\n",
    "  .withColumn(\"node_type\", lit(\"Subscription\"))\n",
    "\n",
    "val accountNodes = df\n",
    "  .select(\"AccountId\")\n",
    "  .distinct()\n",
    "  .withColumnRenamed(\"AccountId\", \"id\")\n",
    "  .withColumn(\"node_type\", lit(\"Account\"))\n",
    "\n",
    "var allNodes = transactionNodes.union(subscriptionNodes).union(accountNodes)"
   ]
  },
  {
   "cell_type": "code",
   "execution_count": 14,
   "metadata": {},
   "outputs": [
    {
     "name": "stdout",
     "output_type": "stream",
     "text": [
      "+------------+------+\n",
      "|   node_type| count|\n",
      "+------------+------+\n",
      "| Transaction|140681|\n",
      "|Subscription|  4836|\n",
      "|     Account|  4841|\n",
      "+------------+------+\n",
      "\r\n"
     ]
    }
   ],
   "source": [
    "allNodes.groupBy(\"node_type\").count().show()"
   ]
  },
  {
   "cell_type": "code",
   "execution_count": 15,
   "metadata": {},
   "outputs": [
    {
     "data": {
      "text/plain": [
       "res5: Long = 140681\r\n"
      ]
     },
     "execution_count": 15,
     "metadata": {},
     "output_type": "execute_result"
    }
   ],
   "source": [
    "indexedDF.count()"
   ]
  },
  {
   "cell_type": "markdown",
   "metadata": {},
   "source": [
    "# Node Features"
   ]
  },
  {
   "cell_type": "code",
   "execution_count": 16,
   "metadata": {},
   "outputs": [
    {
     "data": {
      "text/plain": [
       "TransactionNodes: org.apache.spark.sql.DataFrame = [id: string, node_type: string ... 8 more fields]\r\n"
      ]
     },
     "execution_count": 16,
     "metadata": {},
     "output_type": "execute_result"
    }
   ],
   "source": [
    "val TransactionNodes = allNodes\n",
    "  .join(indexedDF, allNodes(\"id\") === indexedDF(\"TransactionId\"), \"right_outer\")\n",
    "  .select(\"id\", \"node_type\", \"ProviderId_idx\", \"ProductId_idx\", \"ProductCategory_idx\", \"ChannelId_idx\", \"PricingStrategy_idx\", \"Amount_encoded\", \"Value_log\", \"FraudResult_idx\")"
   ]
  },
  {
   "cell_type": "code",
   "execution_count": 17,
   "metadata": {},
   "outputs": [
    {
     "data": {
      "text/plain": [
       "res6: Long = 140681\r\n"
      ]
     },
     "execution_count": 17,
     "metadata": {},
     "output_type": "execute_result"
    }
   ],
   "source": [
    "TransactionNodes.count()"
   ]
  },
  {
   "cell_type": "code",
   "execution_count": 18,
   "metadata": {},
   "outputs": [
    {
     "data": {
      "text/plain": [
       "columnsToMean: List[String] = List(Amount_encoded, Value_log)\r\n",
       "colummsToMode: List[String] = List(ProviderId_idx, ProductId_idx, ProductCategory_idx, ChannelId_idx, PricingStrategy_idx)\r\n",
       "meanAggregations: List[org.apache.spark.sql.Column] = List(avg(Amount_encoded) AS Amount_encoded, avg(Value_log) AS Value_log)\r\n",
       "modeAggregations: List[org.apache.spark.sql.Column] = List(mode(ProviderId_idx) AS ProviderId_idx, mode(ProductId_idx) AS ProductId_idx, mode(ProductCategory_idx) AS ProductCategory_idx, mode(ChannelId_idx) AS ChannelId_idx, mode(PricingStrategy_idx) AS PricingStrategy_idx)\r\n",
       "allAggregations: List[org.apache.spark.sql.Column] = List(mode(ProviderId_idx) AS ProviderId_idx, mode(ProductId_idx) AS ProductId_idx, mode(ProductCategory_idx) AS ProductCategory_idx, mode(ChannelId_idx) ...\r\n"
      ]
     },
     "execution_count": 18,
     "metadata": {},
     "output_type": "execute_result"
    }
   ],
   "source": [
    "val columnsToMean = List(\"Amount_encoded\", \"Value_log\")\n",
    "val colummsToMode = List(\"ProviderId_idx\", \"ProductId_idx\", \"ProductCategory_idx\", \"ChannelId_idx\", \"PricingStrategy_idx\")\n",
    "val meanAggregations = columnsToMean.map(colName =>\n",
    "  mean(col(colName)).alias(s\"$colName\")\n",
    ")\n",
    "val modeAggregations = colummsToMode.map(colName =>\n",
    "  mode(col(colName)).alias(s\"$colName\")\n",
    ")\n",
    "val allAggregations = modeAggregations ++ meanAggregations\n",
    "var SubscriptionNodes = indexedDF\n",
    "  .groupBy(\"SubscriptionId\")\n",
    "  .agg(allAggregations.head, allAggregations.tail: _*)\n",
    "var AccountNodes = indexedDF\n",
    "  .groupBy(\"AccountId\")\n",
    "  .agg(allAggregations.head, allAggregations.tail: _*)\n",
    "\n",
    "SubscriptionNodes = allNodes\n",
    "  .join(SubscriptionNodes, allNodes(\"id\") === SubscriptionNodes(\"SubscriptionId\"), \"right_outer\")\n",
    "  .select(\"id\", \"node_type\", \"ProviderId_idx\", \"ProductId_idx\", \"ProductCategory_idx\", \"ChannelId_idx\", \"PricingStrategy_idx\", \"Amount_encoded\", \"Value_log\")\n",
    "\n",
    "SubscriptionNodes = SubscriptionNodes.withColumn(\"FraudResult_idx\",lit(temp))\n",
    "\n",
    "AccountNodes = allNodes\n",
    "  .join(AccountNodes, allNodes(\"id\") === AccountNodes(\"AccountId\"), \"right_outer\")\n",
    "  .select(\"id\", \"node_type\", \"ProviderId_idx\", \"ProductId_idx\", \"ProductCategory_idx\", \"ChannelId_idx\", \"PricingStrategy_idx\", \"Amount_encoded\", \"Value_log\")\n",
    "\n",
    "AccountNodes = AccountNodes.withColumn(\"FraudResult_idx\",lit(temp))"
   ]
  },
  {
   "cell_type": "code",
   "execution_count": 19,
   "metadata": {},
   "outputs": [
    {
     "data": {
      "text/plain": [
       "allNodes: org.apache.spark.sql.Dataset[org.apache.spark.sql.Row] = [id: string, node_type: string ... 8 more fields]\r\n"
      ]
     },
     "execution_count": 19,
     "metadata": {},
     "output_type": "execute_result"
    }
   ],
   "source": [
    "allNodes = TransactionNodes.union(SubscriptionNodes).union(AccountNodes)"
   ]
  },
  {
   "cell_type": "markdown",
   "metadata": {},
   "source": [
    "# **Encoder + Assembler**"
   ]
  },
  {
   "cell_type": "code",
   "execution_count": 20,
   "metadata": {},
   "outputs": [
    {
     "data": {
      "text/plain": [
       "Featurescolumns: Seq[String] = List(ProviderId_idx, ProductId_idx, ProductCategory_idx, ChannelId_idx, PricingStrategy_idx)\r\n"
      ]
     },
     "execution_count": 20,
     "metadata": {},
     "output_type": "execute_result"
    }
   ],
   "source": [
    "val Featurescolumns = Seq(\"ProviderId_idx\", \"ProductId_idx\", \"ProductCategory_idx\", \"ChannelId_idx\", \"PricingStrategy_idx\")"
   ]
  },
  {
   "cell_type": "code",
   "execution_count": 21,
   "metadata": {},
   "outputs": [
    {
     "data": {
      "text/plain": [
       "encoders: Seq[org.apache.spark.ml.feature.OneHotEncoder] = List(oneHotEncoder_c786d99415c4, oneHotEncoder_8695692b81cd, oneHotEncoder_b1049acb6aca, oneHotEncoder_479b1b983fbb, oneHotEncoder_b86d5d4411fa)\r\n"
      ]
     },
     "execution_count": 21,
     "metadata": {},
     "output_type": "execute_result"
    }
   ],
   "source": [
    "val encoders = Featurescolumns.map { colName =>\n",
    "  new OneHotEncoder()\n",
    "    .setInputCol(s\"${colName}\")\n",
    "    .setOutputCol(s\"${colName}_encoded\")\n",
    "}"
   ]
  },
  {
   "cell_type": "code",
   "execution_count": 22,
   "metadata": {},
   "outputs": [
    {
     "data": {
      "text/plain": [
       "featureCols: Seq[String] = List(ProviderId_idx_encoded, ProductId_idx_encoded, ProductCategory_idx_encoded, ChannelId_idx_encoded, PricingStrategy_idx_encoded)\r\n",
       "assembler: org.apache.spark.ml.feature.VectorAssembler = VectorAssembler: uid=vecAssembler_f48958abd8d5, handleInvalid=error, numInputCols=5\r\n"
      ]
     },
     "execution_count": 22,
     "metadata": {},
     "output_type": "execute_result"
    }
   ],
   "source": [
    "val featureCols = Featurescolumns.flatMap(colName => Array(s\"${colName}_encoded\"))\n",
    "val assembler = new VectorAssembler()\n",
    "  .setInputCols(featureCols.toArray)\n",
    "  .setOutputCol(\"features\")"
   ]
  },
  {
   "cell_type": "code",
   "execution_count": 23,
   "metadata": {},
   "outputs": [
    {
     "data": {
      "text/plain": [
       "pipeline: org.apache.spark.ml.Pipeline = pipeline_b75eee300fdd\r\n"
      ]
     },
     "execution_count": 23,
     "metadata": {},
     "output_type": "execute_result"
    }
   ],
   "source": [
    "val pipeline = new org.apache.spark.ml.Pipeline().setStages((encoders :+ assembler).toArray)"
   ]
  },
  {
   "cell_type": "code",
   "execution_count": 24,
   "metadata": {},
   "outputs": [
    {
     "data": {
      "text/plain": [
       "allNodes: org.apache.spark.sql.Dataset[org.apache.spark.sql.Row] = [id: string, node_type: string ... 14 more fields]\r\n"
      ]
     },
     "execution_count": 24,
     "metadata": {},
     "output_type": "execute_result"
    }
   ],
   "source": [
    "allNodes = pipeline.fit(allNodes).transform(allNodes)"
   ]
  },
  {
   "cell_type": "code",
   "execution_count": 25,
   "metadata": {},
   "outputs": [
    {
     "name": "stdout",
     "output_type": "stream",
     "text": [
      "+--------------------+-----------+--------------+-------------+-------------------+-------------+-------------------+--------------+------------------+---------------+----------------------+---------------------+---------------------------+---------------------+---------------------------+--------------------+\n",
      "|                  id|  node_type|ProviderId_idx|ProductId_idx|ProductCategory_idx|ChannelId_idx|PricingStrategy_idx|Amount_encoded|         Value_log|FraudResult_idx|ProviderId_idx_encoded|ProductId_idx_encoded|ProductCategory_idx_encoded|ChannelId_idx_encoded|PricingStrategy_idx_encoded|            features|\n",
      "+--------------------+-----------+--------------+-------------+-------------------+-------------+-------------------+--------------+------------------+---------------+----------------------+---------------------+---------------------------+---------------------+---------------------------+--------------------+\n",
      "| TransactionId_69578|Transaction|           0.0|          0.0|                0.0|          1.0|                0.0|           0.0|5.5254529391317835|            0.0|         (6,[0],[1.0])|       (27,[0],[1.0])|             (10,[0],[1.0])|        (5,[1],[1.0])|              (4,[0],[1.0])|(52,[0,6,33,44,48...|\n",
      "|TransactionId_121679|Transaction|           0.0|          0.0|                0.0|          1.0|                0.0|           0.0|4.2626798770413155|            0.0|         (6,[0],[1.0])|       (27,[0],[1.0])|             (10,[0],[1.0])|        (5,[1],[1.0])|              (4,[0],[1.0])|(52,[0,6,33,44,48...|\n",
      "| TransactionId_41953|Transaction|           1.0|          2.0|                1.0|          0.0|                0.0|           1.0|6.2166061010848646|            0.0|         (6,[1],[1.0])|       (27,[2],[1.0])|             (10,[1],[1.0])|        (5,[0],[1.0])|              (4,[0],[1.0])|(52,[1,8,34,43,48...|\n",
      "| TransactionId_53948|Transaction|           0.0|          0.0|                0.0|          1.0|                0.0|           0.0| 3.044522437723423|            0.0|         (6,[0],[1.0])|       (27,[0],[1.0])|             (10,[0],[1.0])|        (5,[1],[1.0])|              (4,[0],[1.0])|(52,[0,6,33,44,48...|\n",
      "| TransactionId_61448|Transaction|           1.0|          2.0|                1.0|          0.0|                0.0|           1.0|  6.90875477931522|            0.0|         (6,[1],[1.0])|       (27,[2],[1.0])|             (10,[1],[1.0])|        (5,[0],[1.0])|              (4,[0],[1.0])|(52,[1,8,34,43,48...|\n",
      "| TransactionId_22966|Transaction|           0.0|          0.0|                0.0|          1.0|                0.0|           0.0|3.9318256327243257|            0.0|         (6,[0],[1.0])|       (27,[0],[1.0])|             (10,[0],[1.0])|        (5,[1],[1.0])|              (4,[0],[1.0])|(52,[0,6,33,44,48...|\n",
      "| TransactionId_84170|Transaction|           0.0|          1.0|                1.0|          1.0|                1.0|           0.0| 7.824445930877619|            0.0|         (6,[0],[1.0])|       (27,[1],[1.0])|             (10,[1],[1.0])|        (5,[1],[1.0])|              (4,[1],[1.0])|(52,[0,7,34,44,49...|\n",
      "| TransactionId_72797|Transaction|           0.0|          0.0|                0.0|          1.0|                0.0|           0.0| 8.517393171418904|            0.0|         (6,[0],[1.0])|       (27,[0],[1.0])|             (10,[0],[1.0])|        (5,[1],[1.0])|              (4,[0],[1.0])|(52,[0,6,33,44,48...|\n",
      "| TransactionId_67200|Transaction|           1.0|          1.0|                1.0|          0.0|                0.0|           1.0| 7.824445930877619|            0.0|         (6,[1],[1.0])|       (27,[1],[1.0])|             (10,[1],[1.0])|        (5,[0],[1.0])|              (4,[0],[1.0])|(52,[1,7,34,43,48...|\n",
      "| TransactionId_54197|Transaction|           1.0|          5.0|                1.0|          0.0|                0.0|           1.0|  6.90875477931522|            0.0|         (6,[1],[1.0])|       (27,[5],[1.0])|             (10,[1],[1.0])|        (5,[0],[1.0])|              (4,[0],[1.0])|(52,[1,11,34,43,4...|\n",
      "| TransactionId_57987|Transaction|           1.0|          1.0|                1.0|          0.0|                0.0|           1.0|  6.90875477931522|            0.0|         (6,[1],[1.0])|       (27,[1],[1.0])|             (10,[1],[1.0])|        (5,[0],[1.0])|              (4,[0],[1.0])|(52,[1,7,34,43,48...|\n",
      "| TransactionId_80234|Transaction|           2.0|          1.0|                1.0|          0.0|                1.0|           1.0| 9.210440366976517|            0.0|         (6,[2],[1.0])|       (27,[1],[1.0])|             (10,[1],[1.0])|        (5,[0],[1.0])|              (4,[1],[1.0])|(52,[2,7,34,43,49...|\n",
      "|TransactionId_104526|Transaction|           4.0|          3.0|                0.0|          0.0|                0.0|           1.0| 11.51293546492023|            0.0|         (6,[4],[1.0])|       (27,[3],[1.0])|             (10,[0],[1.0])|        (5,[0],[1.0])|              (4,[0],[1.0])|(52,[4,9,33,43,48...|\n",
      "| TransactionId_36925|Transaction|           2.0|          3.0|                0.0|          0.0|                0.0|           1.0|11.156264806643742|            0.0|         (6,[2],[1.0])|       (27,[3],[1.0])|             (10,[0],[1.0])|        (5,[0],[1.0])|              (4,[0],[1.0])|(52,[2,9,33,43,48...|\n",
      "| TransactionId_76173|Transaction|           1.0|          2.0|                1.0|          0.0|                0.0|           1.0|  6.90875477931522|            0.0|         (6,[1],[1.0])|       (27,[2],[1.0])|             (10,[1],[1.0])|        (5,[0],[1.0])|              (4,[0],[1.0])|(52,[1,8,34,43,48...|\n",
      "|TransactionId_127664|Transaction|           1.0|          1.0|                1.0|          0.0|                0.0|           1.0|  6.90875477931522|            0.0|         (6,[1],[1.0])|       (27,[1],[1.0])|             (10,[1],[1.0])|        (5,[0],[1.0])|              (4,[0],[1.0])|(52,[1,7,34,43,48...|\n",
      "| TransactionId_37640|Transaction|           1.0|          8.0|                4.0|          0.0|                0.0|           1.0| 8.160803920954665|            0.0|         (6,[1],[1.0])|       (27,[8],[1.0])|             (10,[4],[1.0])|        (5,[0],[1.0])|              (4,[0],[1.0])|(52,[1,14,37,43,4...|\n",
      "| TransactionId_33046|Transaction|           2.0|          1.0|                1.0|          0.0|                1.0|           1.0|  6.90875477931522|            0.0|         (6,[2],[1.0])|       (27,[1],[1.0])|             (10,[1],[1.0])|        (5,[0],[1.0])|              (4,[1],[1.0])|(52,[2,7,34,43,49...|\n",
      "| TransactionId_46857|Transaction|           1.0|          2.0|                1.0|          0.0|                0.0|           1.0|  6.90875477931522|            0.0|         (6,[1],[1.0])|       (27,[2],[1.0])|             (10,[1],[1.0])|        (5,[0],[1.0])|              (4,[0],[1.0])|(52,[1,8,34,43,48...|\n",
      "|TransactionId_119797|Transaction|           1.0|          1.0|                1.0|          0.0|                0.0|           1.0| 7.601402334583733|            0.0|         (6,[1],[1.0])|       (27,[1],[1.0])|             (10,[1],[1.0])|        (5,[0],[1.0])|              (4,[0],[1.0])|(52,[1,7,34,43,48...|\n",
      "+--------------------+-----------+--------------+-------------+-------------------+-------------+-------------------+--------------+------------------+---------------+----------------------+---------------------+---------------------------+---------------------+---------------------------+--------------------+\n",
      "only showing top 20 rows\n",
      "\r\n"
     ]
    }
   ],
   "source": [
    "allNodes.show()"
   ]
  },
  {
   "cell_type": "code",
   "execution_count": 26,
   "metadata": {},
   "outputs": [
    {
     "data": {
      "text/plain": [
       "res8: Long = 150358\r\n"
      ]
     },
     "execution_count": 26,
     "metadata": {},
     "output_type": "execute_result"
    }
   ],
   "source": [
    "allNodes.count()"
   ]
  },
  {
   "cell_type": "markdown",
   "metadata": {},
   "source": [
    "# **Construct edges**"
   ]
  },
  {
   "cell_type": "code",
   "execution_count": 27,
   "metadata": {},
   "outputs": [
    {
     "name": "stdout",
     "output_type": "stream",
     "text": [
      "+--------------+--------------+----------------------------+\n",
      "|src           |dst           |relation                    |\n",
      "+--------------+--------------+----------------------------+\n",
      "|TransactionId |SubscriptionId|TransactionId-SubscriptionId|\n",
      "|SubscriptionId|TransactionId |SubscriptionId-TransactionId|\n",
      "|TransactionId |AccountId     |TransactionId-AccountId     |\n",
      "|AccountId     |TransactionId |AccountId-TransactionId     |\n",
      "|SubscriptionId|AccountId     |SubscriptionId-AccountId    |\n",
      "|AccountId     |SubscriptionId|AccountId-SubscriptionId    |\n",
      "+--------------+--------------+----------------------------+\n",
      "\r\n"
     ]
    },
    {
     "data": {
      "text/plain": [
       "nodeCols: Seq[String] = List(TransactionId, SubscriptionId, AccountId)\r\n",
       "nodePairs: List[(String, String)] = List((TransactionId,SubscriptionId), (SubscriptionId,TransactionId), (TransactionId,AccountId), (AccountId,TransactionId), (SubscriptionId,AccountId), (AccountId,SubscriptionId))\r\n",
       "edgesDF: org.apache.spark.sql.DataFrame = [src_type: string, dst_type: string]\r\n",
       "edges: org.apache.spark.sql.DataFrame = [src: string, dst: string ... 1 more field]\r\n"
      ]
     },
     "execution_count": 27,
     "metadata": {},
     "output_type": "execute_result"
    }
   ],
   "source": [
    "val nodeCols = Seq(\"TransactionId\", \"SubscriptionId\", \"AccountId\")\n",
    "val nodePairs = nodeCols.combinations(2).toList.flatMap(pair => List((pair.head, pair.last), (pair.last, pair.head)))\n",
    "val edgesDF = nodePairs.toDF(\"src_type\", \"dst_type\")\n",
    "val edges = edgesDF.selectExpr(\n",
    "  \"src_type as src\",\n",
    "  \"dst_type as dst\",\n",
    "  \"concat_ws('-', src_type, dst_type) as relation\"\n",
    ")\n",
    "edges.show(truncate = false)"
   ]
  },
  {
   "cell_type": "code",
   "execution_count": 28,
   "metadata": {},
   "outputs": [
    {
     "data": {
      "text/plain": [
       "edgesDF: org.apache.spark.sql.DataFrame = [_1: string, _2: string ... 1 more field]\r\n",
       "tempDF: org.apache.spark.sql.DataFrame = [AccountId: string, SubscriptionId: string ... 1 more field]\r\n",
       "createEdgesAndUpdateDict: (srcType: String, dstType: String)Unit\r\n"
      ]
     },
     "execution_count": 28,
     "metadata": {},
     "output_type": "execute_result"
    }
   ],
   "source": [
    "var edgesDF: DataFrame = spark.createDataFrame(spark.sparkContext.emptyRDD[(String, String, String)])\n",
    "var tempDF: DataFrame = spark.createDataFrame(spark.sparkContext.emptyRDD[(String, String)])\n",
    "def createEdgesAndUpdateDict(srcType: String, dstType: String): Unit = {\n",
    "    val relation = (s\"$srcType-$dstType\")\n",
    "    tempDF = df.select(srcType, dstType).distinct()\n",
    "    tempDF = tempDF.withColumn(\"relation\", lit(relation))\n",
    "    edgesDF =  edgesDF.union(tempDF.select(\n",
    "        col(srcType), \n",
    "        col(dstType),\n",
    "        col(\"relation\"),\n",
    "    ))\n",
    "}\n",
    "for ((srcType, dstType) <- nodePairs) {\n",
    "  createEdgesAndUpdateDict(srcType, dstType)\n",
    "}"
   ]
  },
  {
   "cell_type": "code",
   "execution_count": 29,
   "metadata": {},
   "outputs": [
    {
     "data": {
      "text/plain": [
       "edgesDF: org.apache.spark.sql.DataFrame = [src: string, dst: string ... 1 more field]\r\n"
      ]
     },
     "execution_count": 29,
     "metadata": {},
     "output_type": "execute_result"
    }
   ],
   "source": [
    "edgesDF = edgesDF.withColumnRenamed(\"_1\", \"src\").withColumnRenamed(\"_2\", \"dst\").withColumnRenamed(\"_3\", \"relation\")"
   ]
  },
  {
   "cell_type": "code",
   "execution_count": 37,
   "metadata": {},
   "outputs": [
    {
     "name": "stdout",
     "output_type": "stream",
     "text": [
      "+--------------------+------+\n",
      "|            relation| count|\n",
      "+--------------------+------+\n",
      "|TransactionId-Sub...|140681|\n",
      "|SubscriptionId-Tr...|140681|\n",
      "|TransactionId-Acc...|140681|\n",
      "|AccountId-Transac...|140681|\n",
      "|SubscriptionId-Ac...|  4843|\n",
      "|AccountId-Subscri...|  4843|\n",
      "+--------------------+------+\n",
      "\r\n"
     ]
    }
   ],
   "source": [
    "edgesDF.groupBy(\"relation\").count().show()"
   ]
  },
  {
   "cell_type": "code",
   "execution_count": 31,
   "metadata": {},
   "outputs": [
    {
     "data": {
      "text/plain": [
       "graph: org.graphframes.GraphFrame = GraphFrame(v:[id: string, node_type: string ... 14 more fields], e:[src: string, dst: string ... 1 more field])\r\n"
      ]
     },
     "execution_count": 31,
     "metadata": {},
     "output_type": "execute_result"
    }
   ],
   "source": [
    "var graph = GraphFrame(allNodes, edgesDF)"
   ]
  },
  {
   "cell_type": "code",
   "execution_count": 32,
   "metadata": {},
   "outputs": [
    {
     "name": "stdout",
     "output_type": "stream",
     "text": [
      "+--------------------+-----------+--------------+-------------+-------------------+-------------+-------------------+--------------+------------------+---------------+----------------------+---------------------+---------------------------+---------------------+---------------------------+--------------------+\n",
      "|                  id|  node_type|ProviderId_idx|ProductId_idx|ProductCategory_idx|ChannelId_idx|PricingStrategy_idx|Amount_encoded|         Value_log|FraudResult_idx|ProviderId_idx_encoded|ProductId_idx_encoded|ProductCategory_idx_encoded|ChannelId_idx_encoded|PricingStrategy_idx_encoded|            features|\n",
      "+--------------------+-----------+--------------+-------------+-------------------+-------------+-------------------+--------------+------------------+---------------+----------------------+---------------------+---------------------------+---------------------+---------------------------+--------------------+\n",
      "| TransactionId_69578|Transaction|           0.0|          0.0|                0.0|          1.0|                0.0|           0.0|5.5254529391317835|            0.0|         (6,[0],[1.0])|       (27,[0],[1.0])|             (10,[0],[1.0])|        (5,[1],[1.0])|              (4,[0],[1.0])|(52,[0,6,33,44,48...|\n",
      "|TransactionId_121679|Transaction|           0.0|          0.0|                0.0|          1.0|                0.0|           0.0|4.2626798770413155|            0.0|         (6,[0],[1.0])|       (27,[0],[1.0])|             (10,[0],[1.0])|        (5,[1],[1.0])|              (4,[0],[1.0])|(52,[0,6,33,44,48...|\n",
      "| TransactionId_41953|Transaction|           1.0|          2.0|                1.0|          0.0|                0.0|           1.0|6.2166061010848646|            0.0|         (6,[1],[1.0])|       (27,[2],[1.0])|             (10,[1],[1.0])|        (5,[0],[1.0])|              (4,[0],[1.0])|(52,[1,8,34,43,48...|\n",
      "| TransactionId_53948|Transaction|           0.0|          0.0|                0.0|          1.0|                0.0|           0.0| 3.044522437723423|            0.0|         (6,[0],[1.0])|       (27,[0],[1.0])|             (10,[0],[1.0])|        (5,[1],[1.0])|              (4,[0],[1.0])|(52,[0,6,33,44,48...|\n",
      "| TransactionId_61448|Transaction|           1.0|          2.0|                1.0|          0.0|                0.0|           1.0|  6.90875477931522|            0.0|         (6,[1],[1.0])|       (27,[2],[1.0])|             (10,[1],[1.0])|        (5,[0],[1.0])|              (4,[0],[1.0])|(52,[1,8,34,43,48...|\n",
      "| TransactionId_22966|Transaction|           0.0|          0.0|                0.0|          1.0|                0.0|           0.0|3.9318256327243257|            0.0|         (6,[0],[1.0])|       (27,[0],[1.0])|             (10,[0],[1.0])|        (5,[1],[1.0])|              (4,[0],[1.0])|(52,[0,6,33,44,48...|\n",
      "| TransactionId_84170|Transaction|           0.0|          1.0|                1.0|          1.0|                1.0|           0.0| 7.824445930877619|            0.0|         (6,[0],[1.0])|       (27,[1],[1.0])|             (10,[1],[1.0])|        (5,[1],[1.0])|              (4,[1],[1.0])|(52,[0,7,34,44,49...|\n",
      "| TransactionId_72797|Transaction|           0.0|          0.0|                0.0|          1.0|                0.0|           0.0| 8.517393171418904|            0.0|         (6,[0],[1.0])|       (27,[0],[1.0])|             (10,[0],[1.0])|        (5,[1],[1.0])|              (4,[0],[1.0])|(52,[0,6,33,44,48...|\n",
      "| TransactionId_67200|Transaction|           1.0|          1.0|                1.0|          0.0|                0.0|           1.0| 7.824445930877619|            0.0|         (6,[1],[1.0])|       (27,[1],[1.0])|             (10,[1],[1.0])|        (5,[0],[1.0])|              (4,[0],[1.0])|(52,[1,7,34,43,48...|\n",
      "| TransactionId_54197|Transaction|           1.0|          5.0|                1.0|          0.0|                0.0|           1.0|  6.90875477931522|            0.0|         (6,[1],[1.0])|       (27,[5],[1.0])|             (10,[1],[1.0])|        (5,[0],[1.0])|              (4,[0],[1.0])|(52,[1,11,34,43,4...|\n",
      "| TransactionId_57987|Transaction|           1.0|          1.0|                1.0|          0.0|                0.0|           1.0|  6.90875477931522|            0.0|         (6,[1],[1.0])|       (27,[1],[1.0])|             (10,[1],[1.0])|        (5,[0],[1.0])|              (4,[0],[1.0])|(52,[1,7,34,43,48...|\n",
      "| TransactionId_80234|Transaction|           2.0|          1.0|                1.0|          0.0|                1.0|           1.0| 9.210440366976517|            0.0|         (6,[2],[1.0])|       (27,[1],[1.0])|             (10,[1],[1.0])|        (5,[0],[1.0])|              (4,[1],[1.0])|(52,[2,7,34,43,49...|\n",
      "|TransactionId_104526|Transaction|           4.0|          3.0|                0.0|          0.0|                0.0|           1.0| 11.51293546492023|            0.0|         (6,[4],[1.0])|       (27,[3],[1.0])|             (10,[0],[1.0])|        (5,[0],[1.0])|              (4,[0],[1.0])|(52,[4,9,33,43,48...|\n",
      "| TransactionId_36925|Transaction|           2.0|          3.0|                0.0|          0.0|                0.0|           1.0|11.156264806643742|            0.0|         (6,[2],[1.0])|       (27,[3],[1.0])|             (10,[0],[1.0])|        (5,[0],[1.0])|              (4,[0],[1.0])|(52,[2,9,33,43,48...|\n",
      "| TransactionId_76173|Transaction|           1.0|          2.0|                1.0|          0.0|                0.0|           1.0|  6.90875477931522|            0.0|         (6,[1],[1.0])|       (27,[2],[1.0])|             (10,[1],[1.0])|        (5,[0],[1.0])|              (4,[0],[1.0])|(52,[1,8,34,43,48...|\n",
      "|TransactionId_127664|Transaction|           1.0|          1.0|                1.0|          0.0|                0.0|           1.0|  6.90875477931522|            0.0|         (6,[1],[1.0])|       (27,[1],[1.0])|             (10,[1],[1.0])|        (5,[0],[1.0])|              (4,[0],[1.0])|(52,[1,7,34,43,48...|\n",
      "| TransactionId_37640|Transaction|           1.0|          8.0|                4.0|          0.0|                0.0|           1.0| 8.160803920954665|            0.0|         (6,[1],[1.0])|       (27,[8],[1.0])|             (10,[4],[1.0])|        (5,[0],[1.0])|              (4,[0],[1.0])|(52,[1,14,37,43,4...|\n",
      "| TransactionId_33046|Transaction|           2.0|          1.0|                1.0|          0.0|                1.0|           1.0|  6.90875477931522|            0.0|         (6,[2],[1.0])|       (27,[1],[1.0])|             (10,[1],[1.0])|        (5,[0],[1.0])|              (4,[1],[1.0])|(52,[2,7,34,43,49...|\n",
      "| TransactionId_46857|Transaction|           1.0|          2.0|                1.0|          0.0|                0.0|           1.0|  6.90875477931522|            0.0|         (6,[1],[1.0])|       (27,[2],[1.0])|             (10,[1],[1.0])|        (5,[0],[1.0])|              (4,[0],[1.0])|(52,[1,8,34,43,48...|\n",
      "|TransactionId_119797|Transaction|           1.0|          1.0|                1.0|          0.0|                0.0|           1.0| 7.601402334583733|            0.0|         (6,[1],[1.0])|       (27,[1],[1.0])|             (10,[1],[1.0])|        (5,[0],[1.0])|              (4,[0],[1.0])|(52,[1,7,34,43,48...|\n",
      "+--------------------+-----------+--------------+-------------+-------------------+-------------+-------------------+--------------+------------------+---------------+----------------------+---------------------+---------------------------+---------------------+---------------------------+--------------------+\n",
      "only showing top 20 rows\n",
      "\r\n"
     ]
    }
   ],
   "source": [
    "allNodes.show()"
   ]
  },
  {
   "cell_type": "code",
   "execution_count": 33,
   "metadata": {},
   "outputs": [],
   "source": [
    "// graph.vertices.write.mode(\"overwrite\").parquet(\"vertices.parquet\")\n",
    "// graph.edges.write.mode(\"overwrite\").parquet(\"edges.parquet\")"
   ]
  },
  {
   "cell_type": "code",
   "execution_count": null,
   "metadata": {},
   "outputs": [],
   "source": []
  }
 ],
 "metadata": {
  "accelerator": "GPU",
  "colab": {
   "gpuType": "T4",
   "provenance": []
  },
  "kernelspec": {
   "display_name": "spylon-kernel",
   "language": "scala",
   "name": "spylon-kernel"
  },
  "language_info": {
   "codemirror_mode": "text/x-scala",
   "file_extension": ".scala",
   "help_links": [
    {
     "text": "MetaKernel Magics",
     "url": "https://metakernel.readthedocs.io/en/latest/source/README.html"
    }
   ],
   "mimetype": "text/x-scala",
   "name": "scala",
   "pygments_lexer": "scala",
   "version": "0.4.1"
  }
 },
 "nbformat": 4,
 "nbformat_minor": 1
}
